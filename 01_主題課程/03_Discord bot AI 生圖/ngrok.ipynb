{
  "nbformat": 4,
  "nbformat_minor": 0,
  "metadata": {
    "colab": {
      "provenance": [],
      "gpuType": "T4"
    },
    "kernelspec": {
      "name": "python3",
      "display_name": "Python 3"
    },
    "language_info": {
      "name": "python"
    }
  },
  "cells": [
    {
      "cell_type": "code",
      "execution_count": null,
      "metadata": {
        "colab": {
          "base_uri": "https://localhost:8080/"
        },
        "id": "bT451lQYd2Hw",
        "outputId": "89b95db0-9a77-4a78-a8f1-d8c9e1fe502c"
      },
      "outputs": [
        {
          "metadata": {
            "tags": null
          },
          "name": "stdout",
          "output_type": "stream",
          "text": [
            "Collecting pyngrok\n",
            "  Downloading pyngrok-7.2.4-py3-none-any.whl.metadata (8.7 kB)\n",
            "Requirement already satisfied: PyYAML>=5.1 in /usr/local/lib/python3.11/dist-packages (from pyngrok) (6.0.2)\n",
            "Downloading pyngrok-7.2.4-py3-none-any.whl (23 kB)\n",
            "Installing collected packages: pyngrok\n",
            "Successfully installed pyngrok-7.2.4\n",
            "NgrokTunnel: \"https://e0cd-34-106-54-165.ngrok-free.app\" -> \"http://localhost:5000\"\n",
            " * Serving Flask app '__main__'\n",
            " * Debug mode: off\n"
          ]
        },
        {
          "metadata": {
            "tags": null
          },
          "name": "stderr",
          "output_type": "stream",
          "text": [
            "INFO:werkzeug:\u001b[31m\u001b[1mWARNING: This is a development server. Do not use it in a production deployment. Use a production WSGI server instead.\u001b[0m\n",
            " * Running on http://127.0.0.1:5000\n",
            "INFO:werkzeug:\u001b[33mPress CTRL+C to quit\u001b[0m\n",
            "INFO:werkzeug:127.0.0.1 - - [16/Apr/2025 13:42:24] \"\u001b[31m\u001b[1mGET / HTTP/1.1\u001b[0m\" 405 -\n",
            "INFO:werkzeug:127.0.0.1 - - [16/Apr/2025 13:42:24] \"\u001b[33mGET /favicon.ico HTTP/1.1\u001b[0m\" 404 -\n",
            "INFO:werkzeug:127.0.0.1 - - [16/Apr/2025 13:43:22] \"POST / HTTP/1.1\" 200 -\n"
          ]
        },
        {
          "metadata": {
            "tags": null
          },
          "name": "stdout",
          "output_type": "stream",
          "text": [
            "teacher is handsome\n"
          ]
        }
      ],
      "source": [
        "from flask import Flask,request,jsonify\n",
        "\n",
        "app = Flask(__name__)\n",
        "\n",
        "@app.route('/',methods = ['post'])\n",
        "def get_form():\n",
        "    data = request.json\n",
        "    prompt = data.get('prompt','')\n",
        "    print(prompt)\n",
        "    # ai 程式碼\n",
        "    return jsonify({\n",
        "            'status': 'success'\n",
        "        })\n",
        "\n",
        "!pip install pyngrok\n",
        "from pyngrok import ngrok\n",
        "import atexit\n",
        "\n",
        "ngrok.set_auth_token('')\n",
        "ng_url = ngrok.connect(5000)\n",
        "\n",
        "print(ng_url)\n",
        "\n",
        "atexit.register(ngrok.disconnect)\n",
        "\n",
        "app.run()\n",
        "\n",
        "#ngrok reference：https://ngrok.github.io/ngrok-python/\n",
        "#atexit reference：https://docs.python.org/zh-tw/3.13/library/atexit.html#module-atexit\n",
        "#token reference：https://pyngrok.readthedocs.io/en/latest/index.html#setting-the-authtoken-or-api-key\n",
        "#reference for connect function：https://ngrok.github.io/ngrok-python/module.html#ngrok.forward"
      ]
    }
  ]
}
